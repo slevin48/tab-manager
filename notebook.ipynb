{
 "cells": [
  {
   "cell_type": "markdown",
   "metadata": {},
   "source": [
    "# Tab Manager\n",
    "\n",
    "1. Retrieve list of active tabs\n",
    "2. Create and mail an invite grouping tabs"
   ]
  },
  {
   "cell_type": "markdown",
   "metadata": {},
   "source": [
    "## 1. Tab list\n",
    "\n",
    "Use the Tab Snap chrome extension:\n",
    "\n",
    "https://chrome.google.com/webstore/detail/tab-snap/ajjloplcjllkammemhenacfjcccockde"
   ]
  },
  {
   "cell_type": "code",
   "execution_count": 6,
   "metadata": {},
   "outputs": [
    {
     "data": {
      "text/plain": [
       "['Tab_Snap_Sunday_Dec_5_2021_17_19_PM.txt',\n",
       " 'Tab_Snap_Sunday_Dec_5_2021_17_21_PM.csv']"
      ]
     },
     "execution_count": 6,
     "metadata": {},
     "output_type": "execute_result"
    }
   ],
   "source": [
    "import os\n",
    "os.listdir('tabs')"
   ]
  },
  {
   "cell_type": "code",
   "execution_count": 7,
   "metadata": {},
   "outputs": [
    {
     "data": {
      "text/html": [
       "<div>\n",
       "<style scoped>\n",
       "    .dataframe tbody tr th:only-of-type {\n",
       "        vertical-align: middle;\n",
       "    }\n",
       "\n",
       "    .dataframe tbody tr th {\n",
       "        vertical-align: top;\n",
       "    }\n",
       "\n",
       "    .dataframe thead th {\n",
       "        text-align: right;\n",
       "    }\n",
       "</style>\n",
       "<table border=\"1\" class=\"dataframe\">\n",
       "  <thead>\n",
       "    <tr style=\"text-align: right;\">\n",
       "      <th></th>\n",
       "      <th>date</th>\n",
       "      <th>title</th>\n",
       "      <th>url</th>\n",
       "    </tr>\n",
       "  </thead>\n",
       "  <tbody>\n",
       "    <tr>\n",
       "      <th>0</th>\n",
       "      <td>Dec. 5 2021</td>\n",
       "      <td>slevin48/knowledge: 📚 Represent personal Knowl...</td>\n",
       "      <td>https://github.com/slevin48/knowledge</td>\n",
       "    </tr>\n",
       "    <tr>\n",
       "      <th>1</th>\n",
       "      <td>Dec. 5 2021</td>\n",
       "      <td>create ics python - Google Search</td>\n",
       "      <td>https://www.google.com/search?q=create+ics+pyt...</td>\n",
       "    </tr>\n",
       "    <tr>\n",
       "      <th>2</th>\n",
       "      <td>Dec. 5 2021</td>\n",
       "      <td>Create .ics Calendar File in Python | Generate...</td>\n",
       "      <td>https://www.tutorialsbuddy.com/create-ics-cale...</td>\n",
       "    </tr>\n",
       "    <tr>\n",
       "      <th>3</th>\n",
       "      <td>Dec. 5 2021</td>\n",
       "      <td>ics · PyPI</td>\n",
       "      <td>https://pypi.org/project/ics/</td>\n",
       "    </tr>\n",
       "    <tr>\n",
       "      <th>4</th>\n",
       "      <td>Dec. 5 2021</td>\n",
       "      <td>Ics.py : iCalendar for Humans — ics.py 0.7 doc...</td>\n",
       "      <td>https://icspy.readthedocs.io/en/stable/</td>\n",
       "    </tr>\n",
       "    <tr>\n",
       "      <th>5</th>\n",
       "      <td>Dec. 5 2021</td>\n",
       "      <td>icalendar · PyPI</td>\n",
       "      <td>https://pypi.org/project/icalendar/</td>\n",
       "    </tr>\n",
       "    <tr>\n",
       "      <th>6</th>\n",
       "      <td>Dec. 5 2021</td>\n",
       "      <td>Internet Calendaring and Scheduling (iCalendar...</td>\n",
       "      <td>https://icalendar.readthedocs.io/en/latest/</td>\n",
       "    </tr>\n",
       "  </tbody>\n",
       "</table>\n",
       "</div>"
      ],
      "text/plain": [
       "          date                                              title  \\\n",
       "0  Dec. 5 2021  slevin48/knowledge: 📚 Represent personal Knowl...   \n",
       "1  Dec. 5 2021                  create ics python - Google Search   \n",
       "2  Dec. 5 2021  Create .ics Calendar File in Python | Generate...   \n",
       "3  Dec. 5 2021                                         ics · PyPI   \n",
       "4  Dec. 5 2021  Ics.py : iCalendar for Humans — ics.py 0.7 doc...   \n",
       "5  Dec. 5 2021                                   icalendar · PyPI   \n",
       "6  Dec. 5 2021  Internet Calendaring and Scheduling (iCalendar...   \n",
       "\n",
       "                                                 url  \n",
       "0              https://github.com/slevin48/knowledge  \n",
       "1  https://www.google.com/search?q=create+ics+pyt...  \n",
       "2  https://www.tutorialsbuddy.com/create-ics-cale...  \n",
       "3                      https://pypi.org/project/ics/  \n",
       "4            https://icspy.readthedocs.io/en/stable/  \n",
       "5                https://pypi.org/project/icalendar/  \n",
       "6        https://icalendar.readthedocs.io/en/latest/  "
      ]
     },
     "execution_count": 7,
     "metadata": {},
     "output_type": "execute_result"
    }
   ],
   "source": [
    "import pandas as pd\n",
    "df = pd.read_csv('tabs/Tab_Snap_Sunday_Dec_5_2021_17_21_PM.csv',names=['date','title','url'])\n",
    "df"
   ]
  },
  {
   "cell_type": "markdown",
   "metadata": {},
   "source": [
    "Investigate further how to retrieve information from the webbrowser\n",
    "\n",
    "https://docs.python.org/3/library/webbrowser.html"
   ]
  },
  {
   "cell_type": "markdown",
   "metadata": {},
   "source": [
    "## 2. Mail tabs as invitation\n",
    "\n",
    "### 2.1. Email\n",
    "\n",
    "https://docs.python.org/3/library/email.examples.html\n",
    "\n",
    "https://stackabuse.com/how-to-send-emails-with-gmail-using-python/"
   ]
  },
  {
   "cell_type": "code",
   "execution_count": 10,
   "metadata": {},
   "outputs": [],
   "source": [
    "textfile = \"test-mail.txt\"\n",
    "me = \"debray.yann@gmail.com\"\n",
    "you = \"yann.debray@gadz.org\""
   ]
  },
  {
   "cell_type": "code",
   "execution_count": 2,
   "metadata": {},
   "outputs": [],
   "source": [
    "# Import smtplib for the actual sending function\n",
    "import smtplib\n",
    "\n",
    "# Import the email modules we'll need\n",
    "from email.message import EmailMessage\n",
    "\n",
    "# Open the plain text file whose name is in textfile for reading.\n",
    "with open(textfile) as fp:\n",
    "    # Create a text/plain message\n",
    "    msg = EmailMessage()\n",
    "    msg.set_content(fp.read())\n",
    "\n",
    "# me == the sender's email address\n",
    "# you == the recipient's email address\n",
    "msg['Subject'] = f'The contents of {textfile}'\n",
    "msg['From'] = me\n",
    "msg['To'] = you\n",
    "\n",
    "# # Send the message via our own SMTP server.\n",
    "# s = smtplib.SMTP('localhost')\n",
    "# s.send_message(msg)\n",
    "# s.quit()"
   ]
  },
  {
   "cell_type": "code",
   "execution_count": 11,
   "metadata": {},
   "outputs": [
    {
     "data": {
      "text/plain": [
       "(250,\n",
       " b'smtp.gmail.com at your service, [2001:861:3202:2040:5862:d538:65ca:5757]\\nSIZE 35882577\\n8BITMIME\\nSTARTTLS\\nENHANCEDSTATUSCODES\\nPIPELINING\\nCHUNKING\\nSMTPUTF8')"
      ]
     },
     "execution_count": 11,
     "metadata": {},
     "output_type": "execute_result"
    }
   ],
   "source": [
    "server = smtplib.SMTP('smtp.gmail.com', 587)\n",
    "server.ehlo()"
   ]
  },
  {
   "cell_type": "code",
   "execution_count": 12,
   "metadata": {},
   "outputs": [],
   "source": [
    "# Authentication\n",
    "import secrets\n",
    "try:\n",
    "    server = smtplib.SMTP_SSL('smtp.gmail.com', 465)\n",
    "    server.ehlo()\n",
    "    server.login(me,secrets.mail)\n",
    "except:\n",
    "    print(\"Authentication failed\")"
   ]
  },
  {
   "cell_type": "code",
   "execution_count": 15,
   "metadata": {},
   "outputs": [
    {
     "data": {
      "text/plain": [
       "(503, b'5.5.1 MAIL first. s8sm8603537wro.19 - gsmtp')"
      ]
     },
     "execution_count": 15,
     "metadata": {},
     "output_type": "execute_result"
    }
   ],
   "source": [
    "import secrets\n",
    "server.login(me,secrets.mail)"
   ]
  },
  {
   "cell_type": "code",
   "execution_count": 18,
   "metadata": {},
   "outputs": [],
   "source": [
    "# server.sendmail(sent_from, to, email_text)\n",
    "# server.close()"
   ]
  },
  {
   "cell_type": "code",
   "execution_count": 19,
   "metadata": {},
   "outputs": [
    {
     "data": {
      "text/plain": [
       "(221, b'2.0.0 closing connection s8sm8603537wro.19 - gsmtp')"
      ]
     },
     "execution_count": 19,
     "metadata": {},
     "output_type": "execute_result"
    }
   ],
   "source": [
    "server.send_message(msg)\n",
    "server.quit()"
   ]
  },
  {
   "cell_type": "markdown",
   "metadata": {},
   "source": [
    "success!!!\n",
    "\n",
    "![test-mail](img/test-mail.png)"
   ]
  },
  {
   "cell_type": "markdown",
   "metadata": {},
   "source": [
    "### 2.2. Meeting invitation\n",
    "\n",
    "https://askcodez.com/lenvoi-des-invitations-a-des-reunions-avec-python.html\n",
    "\n",
    "https://icalendar.readthedocs.io/en/latest/\n",
    "\n",
    "https://icspy.readthedocs.io/en/stable/"
   ]
  },
  {
   "cell_type": "code",
   "execution_count": null,
   "metadata": {},
   "outputs": [],
   "source": [
    "!pip install ics"
   ]
  },
  {
   "cell_type": "code",
   "execution_count": 4,
   "metadata": {},
   "outputs": [
    {
     "data": {
      "text/plain": [
       "{<Event 'My cool event' begin:2014-01-01T00:00:00+00:00 end:2014-01-01T00:00:00+00:00>}"
      ]
     },
     "execution_count": 4,
     "metadata": {},
     "output_type": "execute_result"
    }
   ],
   "source": [
    "from ics import Calendar, Event\n",
    "c = Calendar()\n",
    "e = Event()\n",
    "e.name = \"My cool event\"\n",
    "e.begin = '2014-01-01 00:00:00'\n",
    "c.events.add(e)\n",
    "c.events\n",
    "# [<Event 'My cool event' begin:2014-01-01 00:00:00 end:2014-01-01 00:00:01>]"
   ]
  },
  {
   "cell_type": "code",
   "execution_count": 23,
   "metadata": {},
   "outputs": [],
   "source": [
    "with open('my.ics', 'w') as my_file:\n",
    "    my_file.writelines(c)\n",
    "# and it's done !"
   ]
  },
  {
   "cell_type": "code",
   "execution_count": 22,
   "metadata": {},
   "outputs": [
    {
     "data": {
      "text/plain": [
       "{<Event 'create ics python - Google Search' begin:2021-12-05T18:00:00+00:00 end:2021-12-05T18:30:00+00:00>}"
      ]
     },
     "execution_count": 22,
     "metadata": {},
     "output_type": "execute_result"
    }
   ],
   "source": [
    "import datetime\n",
    "\n",
    "c = Calendar()\n",
    "e = Event()\n",
    "e.name = df.title[1]\n",
    "e.description = df.url[1]\n",
    "now = datetime.datetime.now()\n",
    "e.begin = now.strftime(\"%Y-%m-%d %H:00:00\")\n",
    "e.end = now.strftime(\"%Y-%m-%d %H:30:00\")\n",
    "c.events.add(e)\n",
    "c.events\n"
   ]
  },
  {
   "cell_type": "markdown",
   "metadata": {},
   "source": [
    "TODO: add timezone info"
   ]
  }
 ],
 "metadata": {
  "interpreter": {
   "hash": "5d0afc680ef930d32d960861d07fe5072cf577ab2b819485d9974f65e15b7ef5"
  },
  "kernelspec": {
   "display_name": "Python 3.9.1 64-bit",
   "language": "python",
   "name": "python3"
  },
  "language_info": {
   "codemirror_mode": {
    "name": "ipython",
    "version": 3
   },
   "file_extension": ".py",
   "mimetype": "text/x-python",
   "name": "python",
   "nbconvert_exporter": "python",
   "pygments_lexer": "ipython3",
   "version": "3.9.1"
  },
  "orig_nbformat": 4
 },
 "nbformat": 4,
 "nbformat_minor": 2
}
